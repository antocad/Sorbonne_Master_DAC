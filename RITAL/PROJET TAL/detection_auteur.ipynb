{
 "cells": [
  {
   "cell_type": "code",
   "execution_count": 1,
   "metadata": {},
   "outputs": [],
   "source": [
    "import re\n",
    "import numpy as np\n",
    "import copy\n",
    "import pickle\n",
    "from collections import Counter\n",
    "import random\n",
    "\n",
    "from nltk import word_tokenize\n",
    "from nltk.stem import SnowballStemmer\n",
    "from nltk.corpus import stopwords\n",
    "\n",
    "import sklearn\n",
    "from sklearn.metrics import f1_score\n",
    "from sklearn.metrics import accuracy_score\n",
    "from sklearn.pipeline import Pipeline\n",
    "from sklearn.feature_extraction.text import CountVectorizer\n",
    "from sklearn.feature_extraction.text import TfidfVectorizer\n",
    "from sklearn.feature_extraction.text import TfidfTransformer\n",
    "from sklearn.svm import SVC\n",
    "from sklearn.svm import LinearSVC\n",
    "from sklearn.naive_bayes import MultinomialNB\n",
    "from sklearn.linear_model import SGDClassifier\n",
    "from sklearn.tree import DecisionTreeClassifier\n",
    "from sklearn.neighbors import KNeighborsClassifier\n",
    "from sklearn.model_selection import cross_val_score"
   ]
  },
  {
   "cell_type": "code",
   "execution_count": 2,
   "metadata": {},
   "outputs": [],
   "source": [
    "class Traitement:\n",
    "    def __init__(self, lowerCaps=True, stopWords=True, stemm=True):\n",
    "        self.stopwords_list = set(stopwords.words('French'))\n",
    "        self.stopWords = stopWords\n",
    "        self.lowerCaps = lowerCaps\n",
    "        self.stemm = stemm\n",
    "        if self.lowerCaps==False and self.stemm==True:\n",
    "            print(\"Warning: lowerCaps is mandatory with Stemmatization, lowerCaps=False will have no effect\")\n",
    "    \n",
    "    def tokenize(self, text):\n",
    "        stemmer = SnowballStemmer('french')\n",
    "        tokens = word_tokenize(text)\n",
    "        stems = [stemmer.stem(item) for item in tokens]\n",
    "        return \" \".join(stems)\n",
    "    \n",
    "    def removeStopWords(self, text):\n",
    "        words = word_tokenize(text)\n",
    "        wordsFiltered = []\n",
    "        for w in words:\n",
    "            if w not in self.stopwords_list:\n",
    "                wordsFiltered.append(w)\n",
    "        return \" \".join(wordsFiltered)\n",
    "    \n",
    "    def processing(self, corpus):\n",
    "        texts = copy.deepcopy(corpus)\n",
    "        for i in range(len(texts)):\n",
    "            #lower caps\n",
    "            if self.lowerCaps:\n",
    "                texts[i] = texts[i].lower()\n",
    "            #removing stop words\n",
    "            if self.stopWords:\n",
    "                texts[i] = self.removeStopWords(texts[i])\n",
    "            #stemming\n",
    "            if self.stemm:\n",
    "                texts[i] = self.tokenize(texts[i])\n",
    "        return texts"
   ]
  },
  {
   "cell_type": "code",
   "execution_count": 3,
   "metadata": {},
   "outputs": [],
   "source": [
    "file = open(\"AFDpresidentutf8/corpus.tache1.learn.utf8\", \"r\",\\\n",
    "            encoding=\"utf-8\")\n",
    "fileArray = []\n",
    "contenu = file.readline()\n",
    "while contenu:\n",
    "    ligne = re.findall(r\"<[0-9]*:[0-9]*:(.)>(.*)\", contenu, re.DOTALL)\n",
    "    fileArray.append(ligne[0])\n",
    "    contenu = file.readline()\n",
    "fileArray = np.array(fileArray)\n",
    "\n",
    "#------------------------------------------------\n",
    "X_train_full = fileArray[:,1]\n",
    "Y_train_full = np.where(fileArray[:,0]=='C',1,0)\n",
    "#------------------------------------------------\n",
    "\n",
    "ligneC=[]\n",
    "ligneM=[]\n",
    "for e in fileArray:\n",
    "    if e[0]=='C':\n",
    "        ligneC.append([e[0], e[1]])\n",
    "    else:\n",
    "        ligneM.append([e[0], e[1]])\n",
    "np.random.shuffle(ligneC)\n",
    "\n",
    "data_equilibre = np.array(ligneC[:len(ligneM)]+ligneM)\n",
    "np.random.shuffle(data_equilibre)\n",
    "#------------------------------------------------\n",
    "X_train_equilibre = data_equilibre[:,1]\n",
    "Y_train_equilibre = np.where(data_equilibre[:,0]=='C',1,0)\n",
    "#------------------------------------------------"
   ]
  },
  {
   "cell_type": "code",
   "execution_count": 4,
   "metadata": {},
   "outputs": [
    {
     "data": {
      "text/plain": [
       "0.8689669587027329"
      ]
     },
     "execution_count": 4,
     "metadata": {},
     "output_type": "execute_result"
    }
   ],
   "source": [
    "len(ligneC)/len(X_train_full)"
   ]
  },
  {
   "cell_type": "code",
   "execution_count": 5,
   "metadata": {},
   "outputs": [],
   "source": [
    "file = open(\"AFDpresidentutf8/corpus.tache1.test.utf8\", \"r\",\\\n",
    "            encoding=\"utf-8\")\n",
    "X_test = []\n",
    "contenu = file.readline()\n",
    "while contenu:\n",
    "    ligne = re.findall(r\"<[0-9]*:[0-9]*>(.*)\", contenu, re.DOTALL)\n",
    "    X_test.append(ligne[0])\n",
    "    contenu = file.readline()\n",
    "X_test = np.array(X_test)"
   ]
  },
  {
   "cell_type": "code",
   "execution_count": 6,
   "metadata": {},
   "outputs": [],
   "source": [
    "#traitement où on a enlevé les stopwords + stemmatizer\n",
    "traitement = Traitement(lowerCaps=True, stopWords=False, stemm=True)\n",
    "\n",
    "T_train_full = traitement.processing(X_train_full)\n",
    "T_train_equilibre = traitement.processing(X_train_equilibre)\n",
    "T_test  = traitement.processing(X_test)"
   ]
  },
  {
   "cell_type": "code",
   "execution_count": 7,
   "metadata": {},
   "outputs": [
    {
     "name": "stdout",
     "output_type": "stream",
     "text": [
      " Quand je dis chers amis, il ne s'agit pas là d'une formule diplomatique, mais de l'expression de ce que je ressens.\n",
      " quand je dis cher amis , il ne s'ag pas là d'un formul diplomat , mais de l'express de ce que je ressen .\n"
     ]
    }
   ],
   "source": [
    "print(X_train_full[0], T_train_full[0])"
   ]
  },
  {
   "cell_type": "markdown",
   "metadata": {},
   "source": [
    "# ------------------------------------------\n",
    "## Classifieurs\n",
    "# ------------------------------------------"
   ]
  },
  {
   "cell_type": "code",
   "execution_count": 14,
   "metadata": {},
   "outputs": [],
   "source": [
    "from sklearn.metrics import accuracy_score, f1_score, roc_auc_score, make_scorer\n",
    "\n",
    "def my_scoring(y, ypred):\n",
    "    global scores\n",
    "    scores['accuracy'].append(accuracy_score(y, ypred))\n",
    "    scores['f1'].append(f1_score(y, ypred))\n",
    "    return 0\n",
    "my_scoring_ = make_scorer(my_scoring)"
   ]
  },
  {
   "cell_type": "code",
   "execution_count": 15,
   "metadata": {},
   "outputs": [],
   "source": [
    "plotX = []\n",
    "plotY=[[],[],[]]"
   ]
  },
  {
   "cell_type": "code",
   "execution_count": 16,
   "metadata": {},
   "outputs": [
    {
     "name": "stdout",
     "output_type": "stream",
     "text": [
      "MultinomialNB\n",
      "accuracy : 0.8689669602844965\n",
      "f1 : 0.9298901247122318\n",
      "roc_auc: 0.7000531196996296\n"
     ]
    }
   ],
   "source": [
    "plotX.append('MultinomialNB')\n",
    "print(plotX[-1])\n",
    "pipeline = Pipeline([\n",
    "    ('vect', CountVectorizer(ngram_range=(1, 2))),\n",
    "    ('tfidf', TfidfTransformer()),\n",
    "    ('clf', MultinomialNB()),\n",
    "])\n",
    "pipeline.fit(T_train_equilibre, Y_train_equilibre)\n",
    "\n",
    "scores = {'accuracy':[],'f1':[]}\n",
    "cross_val_score(pipeline, T_train_full, Y_train_full, cv=5, scoring=my_scoring_)\n",
    "for k,v in scores.items():\n",
    "    print(k,\":\",np.mean(v))\n",
    "plotY[0].append(np.mean(scores['accuracy']))\n",
    "plotY[1].append(np.mean(scores['f1']))\n",
    "scores = cross_val_score(pipeline, T_train_full, Y_train_full, cv=5, scoring='roc_auc')\n",
    "roc = sum(scores) / len(scores)\n",
    "print(\"roc_auc:\",roc)\n",
    "plotY[2].append(roc)"
   ]
  },
  {
   "cell_type": "code",
   "execution_count": 17,
   "metadata": {},
   "outputs": [
    {
     "name": "stdout",
     "output_type": "stream",
     "text": [
      "LinearSVC\n",
      "class_weight={M:0.7, C:0.3}\n",
      "accuracy : 0.9043072995844922\n",
      "f1 : 0.945848050142138\n",
      "roc_auc: 0.8847113392607158\n"
     ]
    }
   ],
   "source": [
    "plotX.append('LinearSVC\\nclass_weight={M:0.7, C:0.3}')\n",
    "print(plotX[-1])\n",
    "pipeline = Pipeline([\n",
    "    ('vect', CountVectorizer(ngram_range=(1, 2))),\n",
    "    ('tfidf', TfidfTransformer()),\n",
    "    ('clf', LinearSVC(class_weight={0:0.7, 1:0.3})),\n",
    "])\n",
    "pipeline.fit(T_train_equilibre, Y_train_equilibre)\n",
    "\n",
    "scores = {'accuracy':[],'f1':[]}\n",
    "cross_val_score(pipeline, T_train_full, Y_train_full, cv=5, scoring=my_scoring_)\n",
    "for k,v in scores.items():\n",
    "    print(k,\":\",np.mean(v))\n",
    "plotY[0].append(np.mean(scores['accuracy']))\n",
    "plotY[1].append(np.mean(scores['f1']))\n",
    "scores = cross_val_score(pipeline, T_train_full, Y_train_full, cv=5, scoring='roc_auc')\n",
    "roc = sum(scores) / len(scores)\n",
    "print(\"roc_auc:\",roc)\n",
    "plotY[2].append(roc)"
   ]
  },
  {
   "cell_type": "code",
   "execution_count": 18,
   "metadata": {},
   "outputs": [
    {
     "name": "stdout",
     "output_type": "stream",
     "text": [
      "DecisionTree\n",
      "accuracy : 0.6321283105279953\n",
      "f1 : 0.6329557078948173\n",
      "roc_auc: 0.6309981356471337\n"
     ]
    }
   ],
   "source": [
    "plotX.append('DecisionTree')\n",
    "print(plotX[-1])\n",
    "pipeline = Pipeline([\n",
    "    ('vect', CountVectorizer(ngram_range=(1, 2))),\n",
    "    ('tfidf', TfidfTransformer()),\n",
    "    ('clf', DecisionTreeClassifier()),\n",
    "])\n",
    "pipeline.fit(T_train_equilibre, Y_train_equilibre)\n",
    "\n",
    "scores = {'accuracy':[],'f1':[]}\n",
    "cross_val_score(pipeline, T_train_equilibre, Y_train_equilibre, cv=5, scoring=my_scoring_)\n",
    "for k,v in scores.items():\n",
    "    print(k,\":\",np.mean(v))\n",
    "plotY[0].append(np.mean(scores['accuracy']))\n",
    "plotY[1].append(np.mean(scores['f1']))\n",
    "scores = cross_val_score(pipeline, T_train_equilibre, Y_train_equilibre, cv=5, scoring='roc_auc')\n",
    "roc = sum(scores) / len(scores)\n",
    "print(\"roc_auc:\",roc)\n",
    "plotY[2].append(roc)"
   ]
  },
  {
   "cell_type": "code",
   "execution_count": 19,
   "metadata": {},
   "outputs": [
    {
     "name": "stdout",
     "output_type": "stream",
     "text": [
      "KNeighbors(k=3)\n",
      "accuracy : 0.8688102037890566\n",
      "f1 : 0.9297898864282155\n",
      "roc_auc: 0.5047067710180322\n"
     ]
    }
   ],
   "source": [
    "plotX.append('KNeighbors(k=3)')\n",
    "print(plotX[-1])\n",
    "pipeline = Pipeline([\n",
    "    ('vect', CountVectorizer(ngram_range=(1, 2))),\n",
    "    ('tfidf', TfidfTransformer()),\n",
    "    ('clf', KNeighborsClassifier(3)),\n",
    "])\n",
    "pipeline.fit(T_train_equilibre, Y_train_equilibre)\n",
    "\n",
    "scores = {'accuracy':[],'f1':[]}\n",
    "cross_val_score(pipeline, T_train_full, Y_train_full, cv=5, scoring=my_scoring_)\n",
    "for k,v in scores.items():\n",
    "    print(k,\":\",np.mean(v))\n",
    "plotY[0].append(np.mean(scores['accuracy']))\n",
    "plotY[1].append(np.mean(scores['f1']))\n",
    "scores = cross_val_score(pipeline, T_train_full, Y_train_full, cv=5, scoring='roc_auc')\n",
    "roc = sum(scores) / len(scores)\n",
    "print(\"roc_auc:\",roc)\n",
    "plotY[2].append(roc)"
   ]
  },
  {
   "cell_type": "code",
   "execution_count": 20,
   "metadata": {},
   "outputs": [
    {
     "data": {
      "image/png": "[encoded data removed]",
      "text/plain": [
       "<Figure size 720x432 with 1 Axes>"
      ]
     },
     "metadata": {
      "needs_background": "light"
     },
     "output_type": "display_data"
    }
   ],
   "source": [
    "import numpy as np\n",
    "import matplotlib.pyplot as plt\n",
    "Xindices = np.arange(len(plotX))\n",
    "width = 0.30\n",
    "\n",
    "fig, ax = plt.subplots(figsize=(10, 6))\n",
    "rect1 = ax.bar(Xindices, plotY[0], width, label='accuracy')\n",
    "rect2 = ax.bar(Xindices+width, plotY[1], width, label='f1')\n",
    "rect3 = ax.bar(Xindices+2*width, plotY[2], width, label='roc_auc')\n",
    "\n",
    "ax.set_ylabel('scores')\n",
    "ax.set_title('Scores par classifieur (n-grams: 1 + 2)')\n",
    "ax.set_xticks(Xindices+width)\n",
    "ax.set_xticklabels(plotX)\n",
    "ax.legend()\n",
    "\n",
    "def autolabel(rects):\n",
    "    \"\"\"Attach a text label above each bar in *rects*, displaying its height.\"\"\"\n",
    "    for rect in rects:\n",
    "        height = round(rect.get_height(),3)\n",
    "        ax.annotate('{}'.format(height),\n",
    "                    xy=(rect.get_x() + rect.get_width() / 2, height),\n",
    "                    xytext=(0, 3),  # 3 points vertical offset\n",
    "                    textcoords=\"offset points\",\n",
    "                    ha='center', va='bottom')\n",
    "\n",
    "autolabel(rect1)\n",
    "autolabel(rect2)\n",
    "autolabel(rect3)\n",
    "fig.tight_layout()\n",
    "plt.show()"
   ]
  },
  {
   "cell_type": "code",
   "execution_count": null,
   "metadata": {},
   "outputs": [],
   "source": [
    "def lissage(predictions, k, coef, nbTours):\n",
    "    fenetre = (k-1)//2\n",
    "    tabRes = []\n",
    "    tabRes.append(predictions)\n",
    "    \n",
    "    for tour in range(nbTours):\n",
    "        old = tabRes[-1]\n",
    "        new = list(old[:fenetre])\n",
    "        \n",
    "        for i in range(fenetre,len(old)-fenetre):\n",
    "            cnt = Counter(old[i-fenetre:i+fenetre+1])\n",
    "            nbC = cnt[1]\n",
    "            nbM = cnt[-1]\n",
    "            if nbC > coef*nbM:\n",
    "                new.append(1)\n",
    "            else:\n",
    "                new.append(-1)\n",
    "        for j in range(fenetre):\n",
    "            new.append(old[-(fenetre-j)])\n",
    "        tabRes.append(new)\n",
    "    \n",
    "    for res in tabRes:\n",
    "        cpt = Counter(res)\n",
    "        print(cpt)\n",
    "        \n",
    "    return tabRes[-1]"
   ]
  },
  {
   "cell_type": "code",
   "execution_count": null,
   "metadata": {},
   "outputs": [],
   "source": [
    "l = lissage(clf_predictions, 9, 2, 1)\n",
    "l = lissage(l, 5, 1, 2)"
   ]
  },
  {
   "cell_type": "code",
   "execution_count": null,
   "metadata": {},
   "outputs": [],
   "source": [
    "predictions_auteurs = open(\"predictions_auteurs2lissage2x.txt\", \"w\")\n",
    "#predict = np.where(clf_predictions==1,'C','M')\n",
    "predict = np.where(np.array(l)==1,'C','M')\n",
    "for v in predict:\n",
    "    predictions_auteurs.write(v+\"\\n\")\n",
    "predictions_auteurs.close()"
   ]
  },
  {
   "cell_type": "markdown",
   "metadata": {},
   "source": [
    "# ------------------------------------------\n",
    "## Poubelle (ce qu'il y a en dessous ne sert à RIEN)\n",
    "# ------------------------------------------"
   ]
  },
  {
   "cell_type": "raw",
   "metadata": {},
   "source": [
    "plotX.append('DecisionTree')\n",
    "print(plotX[-1])\n",
    "pipeline3 = Pipeline([\n",
    "    ('vect', CountVectorizer(ngram_range=(1, 2))),\n",
    "    ('tfidf', TfidfTransformer()),\n",
    "    ('clf', DecisionTreeClassifier()),\n",
    "])\n",
    "pipeline3.fit(T_train,Y)\n",
    "\n",
    "scores = {'accuracy':[],'f1':[]}\n",
    "cross_val_score(pipeline3, T_train, Y, cv=5, scoring=my_scoring_)\n",
    "for k,v in scores.items():\n",
    "    print(k,\":\",np.mean(v))\n",
    "plotY[0].append(np.mean(scores['accuracy']))\n",
    "plotY[1].append(np.mean(scores['f1']))\n",
    "scores = cross_val_score(pipeline3, T_train, Y, cv=5, scoring='roc_auc')\n",
    "roc = sum(scores) / len(scores)\n",
    "print(\"roc_auc:\",roc)\n",
    "plotY[2].append(roc)"
   ]
  },
  {
   "cell_type": "raw",
   "metadata": {},
   "source": [
    "plotX.append('KNeighbors(k=3)')\n",
    "print(plotX[-1])\n",
    "pipeline4 = Pipeline([\n",
    "    ('vect', CountVectorizer(ngram_range=(1, 2))),\n",
    "    ('tfidf', TfidfTransformer()),\n",
    "    ('clf', KNeighborsClassifier(3)),\n",
    "])\n",
    "pipeline4.fit(T_train,Y)\n",
    "\n",
    "scores = {'accuracy':[],'f1':[]}\n",
    "cross_val_score(pipeline4, T_train, Y, cv=5, scoring=my_scoring_)\n",
    "for k,v in scores.items():\n",
    "    print(k,\":\",np.mean(v))\n",
    "plotY[0].append(np.mean(scores['accuracy']))\n",
    "plotY[1].append(np.mean(scores['f1']))\n",
    "scores = cross_val_score(pipeline4, T_train, Y, cv=5, scoring='roc_auc')\n",
    "roc = sum(scores) / len(scores)\n",
    "print(\"roc_auc:\",roc)\n",
    "plotY[2].append(roc)"
   ]
  },
  {
   "cell_type": "markdown",
   "metadata": {},
   "source": [
    "predictions_auteurs = open(\"predictions_auteurs.txt\", \"w\")\n",
    "predict = np.where(pipeline1.predict(T_test)==1,'C','M')\n",
    "for res in predict:\n",
    "    predictions_auteurs.write(res+\"\\n\")\n",
    "predictions_auteurs.close()"
   ]
  },
  {
   "cell_type": "raw",
   "metadata": {},
   "source": [
    "from sklearn.cluster import KMeans\n",
    "pipelineKM = Pipeline([\n",
    "    ('vect', CountVectorizer()),\n",
    "    ('tfidf', TfidfTransformer()),\n",
    "    ('clf', KMeans(n_clusters=2)),\n",
    "])\n",
    "\n",
    "pipelineKM.fit(T_train)\n",
    "np.sum(pipelineKM['clf'].labels_)"
   ]
  },
  {
   "cell_type": "markdown",
   "metadata": {},
   "source": [
    "# ------------------------------------------\n",
    "## 1ères Predictions + post-traitement\n",
    "# ------------------------------------------"
   ]
  },
  {
   "cell_type": "raw",
   "metadata": {},
   "source": [
    "def post_processing(clf, X, num_block, coef):\n",
    "    #On fait une fonction de décision qui dit si le block est C ou M.\n",
    "    #Il faut faire une évaluation sur le meilleur coef !  (car les blocks ne sont pas équilibrés)\n",
    "    def takeBlockDecision(block, coef):\n",
    "        nbC = block['C']\n",
    "        nbM = block['M']\n",
    "        if nbC > coef*nbM:\n",
    "            return 1\n",
    "        return -1\n",
    "    #On fait la prédiction sur X\n",
    "    predictions = np.array(clf.predict(X))\n",
    "    print(\"Avant:\",Counter(predictions))\n",
    "    predictions = np.where(predictions==1,'C','M')\n",
    "    #On compte pour chaque block le nombre de prédiction de C ou de M\n",
    "    logs = dict()\n",
    "    for block,auteur in zip(num_block,predictions):\n",
    "        if block not in logs.keys():\n",
    "            logs[block] = {'C':0, 'M':0}\n",
    "        logs[block][auteur] += 1\n",
    "    #print(logs)\n",
    "    #on affecte à chaque block une décision\n",
    "    for key,val in logs.items():\n",
    "        block = logs[key]\n",
    "        block['decision'] = takeBlockDecision(block, coef)\n",
    "    #on refait les prédictions en prenant en compte les blocks\n",
    "    new_predictions = []\n",
    "    for block in num_block:\n",
    "        new_predictions.append(logs[block]['decision'])\n",
    "    print(\"Après:\",Counter(new_predictions))\n",
    "    return new_predictions"
   ]
  },
  {
   "cell_type": "raw",
   "metadata": {},
   "source": [
    "t = post_processing(pipeline3, T_test, num_block_test, 1)"
   ]
  },
  {
   "cell_type": "raw",
   "metadata": {
    "scrolled": false
   },
   "source": [
    "def myCrossValidation(clf, X, Y, k, coefPostTraitement):\n",
    "    #1) Je récupére les indices des exemples pour chaque classe\n",
    "    indiceC = []\n",
    "    indiceM = []\n",
    "    for i in range(len(Y)):\n",
    "        if Y[i,1] == '1':\n",
    "            indiceC.append(i)\n",
    "        else:\n",
    "            indiceM.append(i)\n",
    "    np.random.shuffle(indiceC)\n",
    "    np.random.shuffle(indiceM)\n",
    "    #2) Je créer les k folds en gardant les proportions des classes globales (=Stratified)\n",
    "    IndexFolds = []\n",
    "    sizeFold = len(Y)//k\n",
    "    print(\"taille d'un fold:\",sizeFold)\n",
    "    sizeCbyFold= len(indiceC)//k\n",
    "    for i in range(k-1):\n",
    "        fold = []\n",
    "        for j in range(sizeCbyFold):\n",
    "            fold.append(indiceC.pop(0))\n",
    "        for j in range(sizeFold-len(fold)):\n",
    "            fold.append(indiceM.pop(0))\n",
    "        np.random.shuffle(fold)\n",
    "        IndexFolds.append(fold)\n",
    "    lastFold = indiceC+indiceM\n",
    "    np.random.shuffle(lastFold)\n",
    "    IndexFolds.append(lastFold)\n",
    "    #3) Je transforme mes folds d'index en fold d'exemples \n",
    "    # (jusqu'à présent mes listes de folds étaient les index des exemples dans X et dans Y)\n",
    "    foldsX = []\n",
    "    foldsY = []\n",
    "    for indexList in IndexFolds:\n",
    "        foldX = []\n",
    "        foldY = []\n",
    "        for i in indexList:\n",
    "            foldX.append(X[i])\n",
    "            foldY.append(Y[i])\n",
    "        foldY = np.array(foldY)\n",
    "        foldsX.append(foldX)\n",
    "        foldsY.append(foldY)\n",
    "    foldsY = np.array(foldsY)\n",
    "    foldsX = np.array(foldsX)\n",
    "    #4) Je fais les sous ensembles de Test et de Train, je fais les itérations en faisant fit le classifieur à nouveau.\n",
    "    # Je récupére les scores de bonne classification avec et sans post-traitement\n",
    "    scoresSans = []\n",
    "    scoresAvec = []\n",
    "    for i in range(k):\n",
    "        print(\"k:\",i)\n",
    "        #séparation des folds pour refaire des sous-ensembles de train/test\n",
    "        X_train_tmp = np.concatenate((foldsX[:i],foldsX[i+1:]))\n",
    "        Y_train_tmp = np.concatenate((foldsY[:i],foldsY[i+1:]))\n",
    "        X_train = []\n",
    "        Y_train = []\n",
    "        for lx,ly in zip(X_train_tmp,Y_train_tmp):\n",
    "            for x,y in zip(lx,ly):\n",
    "                X_train.append(x)\n",
    "                Y_train.append(y)\n",
    "        X_train = np.array(X_train)\n",
    "        Y_train = np.array(Y_train, dtype='int32')\n",
    "        X_test = foldsX[i]\n",
    "        Y_test = foldsY[i]\n",
    "        #entrainement du modèle\n",
    "        clf.fit(X_train, Y_train[:,1])\n",
    "        y = np.array(Y_test[:,1], dtype='int32')\n",
    "        #prédiction sans post_processing\n",
    "        y_predicted = np.array(clf.predict(X_test))\n",
    "        #prediction avec post_processing\n",
    "        y_postTreatment = post_processing(clf, X_test, Y_test[:,0], coefPostTraitement)\n",
    "        scoresSans.append(accuracy_score(y, y_predicted))\n",
    "        scoresAvec.append(accuracy_score(y, y_postTreatment))\n",
    "    \n",
    "    print(scoresSans)\n",
    "    print(scoresAvec)\n",
    "    return np.mean(scoresSans),np.mean(scoresAvec)"
   ]
  },
  {
   "cell_type": "raw",
   "metadata": {},
   "source": [
    "coef = np.linspace(0.5, 2., 16)"
   ]
  },
  {
   "cell_type": "raw",
   "metadata": {},
   "source": [
    "myCrossValidation(pipeline3, T_train, Y2, 5, 1)"
   ]
  },
  {
   "cell_type": "raw",
   "metadata": {},
   "source": [
    "traitements=[\n",
    "    Traitement(lowerCaps=False, stopWords=False, stemm=False),\n",
    "    Traitement(lowerCaps=True, stopWords=False, stemm=False),\n",
    "    Traitement(lowerCaps=False, stopWords=True, stemm=False),\n",
    "    Traitement(lowerCaps=True, stopWords=True, stemm=False),\n",
    "    Traitement(lowerCaps=True, stopWords=False, stemm=True),\n",
    "    Traitement(lowerCaps=True, stopWords=True, stemm=True)\n",
    "]\n",
    "\n",
    "##### code de génération des courbes\n",
    "import matplotlib.pyplot as plt\n",
    "import numpy as np\n",
    "\n",
    "values1 = []\n",
    "values2 = []\n",
    "values3 = []\n",
    "values4 = []\n",
    "values5 = []\n",
    "i = 1\n",
    "\n",
    "for traitement in traitements:\n",
    "    print(\"traitemement:\",i,\"/6\")\n",
    "    T_train = traitement.processing(X)\n",
    "    print(X[0], T_train[0])\n",
    "\n",
    "    print('-count 1gram')\n",
    "    pipeline1 = Pipeline([\n",
    "        ('vect', CountVectorizer()),\n",
    "        #('tfidf', TfidfTransformer()),\n",
    "        ('clf', MultinomialNB()),\n",
    "    ])\n",
    "    pipeline1.fit(T_train,Y)\n",
    "    values1.append(np.mean(cross_val_score(pipeline1, T_train, Y, cv=5, scoring='f1')))\n",
    "\n",
    "    print('-tfidf 1gram')\n",
    "    pipeline1 = Pipeline([\n",
    "        ('vect', CountVectorizer()),\n",
    "        ('tfidf', TfidfTransformer()),\n",
    "        ('clf', MultinomialNB()),\n",
    "    ])\n",
    "    pipeline1.fit(T_train,Y)\n",
    "    values2.append(np.mean(cross_val_score(pipeline1, T_train, Y, cv=5, scoring='f1')))\n",
    "\n",
    "    print('-tfidf 2gram')\n",
    "    pipeline1 = Pipeline([\n",
    "        ('vect', CountVectorizer(ngram_range=(2, 2))),\n",
    "        ('tfidf', TfidfTransformer()),\n",
    "        ('clf', MultinomialNB()),\n",
    "    ])\n",
    "    pipeline1.fit(T_train,Y)\n",
    "    values3.append(np.mean(cross_val_score(pipeline1, T_train, Y, cv=5, scoring='f1')))\n",
    "    \n",
    "    print('-tfidf 1+2grams')\n",
    "    pipeline1 = Pipeline([\n",
    "        ('vect', CountVectorizer(ngram_range=(1, 2))),\n",
    "        ('tfidf', TfidfTransformer()),\n",
    "        ('clf', MultinomialNB()),\n",
    "    ])\n",
    "    pipeline1.fit(T_train,Y)\n",
    "    values4.append(np.mean(cross_val_score(pipeline1, T_train, Y, cv=5, scoring='f1')))\n",
    "    \n",
    "    print('-tfidf 1+2+3grams')\n",
    "    pipeline1 = Pipeline([\n",
    "        ('vect', CountVectorizer(ngram_range=(1, 3))),\n",
    "        ('tfidf', TfidfTransformer()),\n",
    "        ('clf', MultinomialNB()),\n",
    "    ])\n",
    "    pipeline1.fit(T_train,Y)\n",
    "    values5.append(np.mean(cross_val_score(pipeline1, T_train, Y, cv=5, scoring='f1')))\n",
    "    \n",
    "    i += 1"
   ]
  },
  {
   "cell_type": "raw",
   "metadata": {},
   "source": [
    "p1=plt.plot(values1,marker='o',label=\"Count 1 grams\")\n",
    "p2=plt.plot(values2,marker='x',label=\"Tfidf 1 grams\")\n",
    "p3=plt.plot(values3,marker='+',label=\"Tfidf 2 grams\")\n",
    "p4=plt.plot(values4,marker='.',label=\"Tfidf 1+2 grams\")\n",
    "p5=plt.plot(values5,marker='^',label=\"Tfidf 1+2+3 grams\")\n",
    "\n",
    "plt.title(\"Score f1 en fonction du traitement utilisé\\n(classifieur:MultinomialNB, cross_validation:5 folds stratified)\")\n",
    "plt.legend()\n",
    "plt.show()"
   ]
  },
  {
   "cell_type": "code",
   "execution_count": null,
   "metadata": {},
   "outputs": [],
   "source": []
  }
 ],
 "metadata": {
  "kernelspec": {
   "display_name": "Python 3",
   "language": "python",
   "name": "python3"
  },
  "language_info": {
   "codemirror_mode": {
    "name": "ipython",
    "version": 3
   },
   "file_extension": ".py",
   "mimetype": "text/x-python",
   "name": "python",
   "nbconvert_exporter": "python",
   "pygments_lexer": "ipython3",
   "version": "3.8.1"
  }
 },
 "nbformat": 4,
 "nbformat_minor": 2
}
