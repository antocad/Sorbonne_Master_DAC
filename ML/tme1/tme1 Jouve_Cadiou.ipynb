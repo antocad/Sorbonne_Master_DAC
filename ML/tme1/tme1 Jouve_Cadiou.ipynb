{
 "cells": [
  {
   "cell_type": "code",
   "execution_count": 1,
   "metadata": {},
   "outputs": [],
   "source": [
    "import numpy as np\n",
    "from collections import Counter"
   ]
  },
  {
   "cell_type": "code",
   "execution_count": 2,
   "metadata": {},
   "outputs": [],
   "source": [
    "import decisiontree as decision"
   ]
  },
  {
   "cell_type": "code",
   "execution_count": 80,
   "metadata": {},
   "outputs": [],
   "source": [
    "def entropie(vect):\n",
    "    dico = dict(Counter(vect))\n",
    "    freq = np.array(list(dico.values()))\n",
    "    freq = freq / freq.sum()\n",
    "    return (-1*freq*np.log2(freq)).sum()"
   ]
  },
  {
   "cell_type": "code",
   "execution_count": 81,
   "metadata": {},
   "outputs": [
    {
     "data": {
      "text/plain": [
       "1.0"
      ]
     },
     "execution_count": 81,
     "metadata": {},
     "output_type": "execute_result"
    }
   ],
   "source": [
    "entropie([0,0,0,1,1,1])"
   ]
  },
  {
   "cell_type": "code",
   "execution_count": 55,
   "metadata": {},
   "outputs": [],
   "source": [
    "def entropie_cond(list_vect):\n",
    "    n=0\n",
    "    for vect in list_vect:\n",
    "        n+=len(vect)\n",
    "        \n",
    "    somme=0\n",
    "    for vect in list_vect:\n",
    "        pi=len(vect)/n\n",
    "        somme+=pi*entropie(vect)\n",
    "    return somme"
   ]
  },
  {
   "cell_type": "code",
   "execution_count": 56,
   "metadata": {},
   "outputs": [
    {
     "data": {
      "text/plain": [
       "0.9649839288804954"
      ]
     },
     "execution_count": 56,
     "metadata": {},
     "output_type": "execute_result"
    }
   ],
   "source": [
    "entropie_cond([[1,1,0],[0,0,1,1]])"
   ]
  },
  {
   "cell_type": "code",
   "execution_count": 7,
   "metadata": {},
   "outputs": [
    {
     "data": {
      "text/plain": [
       "0.9649839288804954"
      ]
     },
     "execution_count": 7,
     "metadata": {},
     "output_type": "execute_result"
    }
   ],
   "source": [
    "decision.entropy_cond(np.array([[1,1,0],[0,0,1,1]]))"
   ]
  },
  {
   "cell_type": "code",
   "execution_count": 44,
   "metadata": {},
   "outputs": [],
   "source": [
    "import  pickle\n",
    "# data : tableau (films ,features), id2titles : dictionnaire  id -> titre ,\n",
    "# fields : id  feature  -> nom\n",
    "[data , id2titles , fields ]= pickle.load(open(\"imdb_extrait.pkl\",\"rb\"))\n",
    "# la  derniere  colonne  est le vote\n",
    "datax=data[:,:33] #laisser 32 exclus ?\n",
    "#(j'ai mis 33 car la borne est exclue est on prenait pas la 32ème colonne) \n",
    "datay=np.array ([1 if x[33] >6.5  else  -1 for x in data])"
   ]
  },
  {
   "cell_type": "code",
   "execution_count": 45,
   "metadata": {},
   "outputs": [
    {
     "data": {
      "text/plain": [
       "\"'Crocodile' Dundee II\""
      ]
     },
     "execution_count": 45,
     "metadata": {},
     "output_type": "execute_result"
    }
   ],
   "source": [
    "id2titles[0]"
   ]
  },
  {
   "cell_type": "code",
   "execution_count": 46,
   "metadata": {},
   "outputs": [
    {
     "data": {
      "text/plain": [
       "-1"
      ]
     },
     "execution_count": 46,
     "metadata": {},
     "output_type": "execute_result"
    }
   ],
   "source": [
    "datay[0]"
   ]
  },
  {
   "cell_type": "code",
   "execution_count": 47,
   "metadata": {},
   "outputs": [
    {
     "data": {
      "text/plain": [
       "array([0.0000e+00, 0.0000e+00, 0.0000e+00, 0.0000e+00, 0.0000e+00,\n",
       "       1.0000e+00, 0.0000e+00, 0.0000e+00, 0.0000e+00, 0.0000e+00,\n",
       "       0.0000e+00, 0.0000e+00, 0.0000e+00, 0.0000e+00, 0.0000e+00,\n",
       "       0.0000e+00, 0.0000e+00, 0.0000e+00, 1.0000e+00, 0.0000e+00,\n",
       "       0.0000e+00, 0.0000e+00, 0.0000e+00, 1.0000e+00, 0.0000e+00,\n",
       "       0.0000e+00, 0.0000e+00, 0.0000e+00, 1.0800e+02, 2.0000e+00,\n",
       "       1.9880e+03, 1.2324e+07, 4.2062e+04])"
      ]
     },
     "execution_count": 47,
     "metadata": {},
     "output_type": "execute_result"
    }
   ],
   "source": [
    "datax[0]"
   ]
  },
  {
   "cell_type": "code",
   "execution_count": 48,
   "metadata": {
    "scrolled": true
   },
   "outputs": [
    {
     "data": {
      "text/plain": [
       "{0: 'Sci-Fi',\n",
       " 1: 'Crime',\n",
       " 2: 'Romance',\n",
       " 3: 'Animation',\n",
       " 4: 'Music',\n",
       " 5: 'Comedy',\n",
       " 6: 'War',\n",
       " 7: 'Horror',\n",
       " 8: 'Film-Noir',\n",
       " 9: 'Adult',\n",
       " 10: 'News',\n",
       " 11: 'Reality-TV',\n",
       " 12: 'Thriller',\n",
       " 13: 'Western',\n",
       " 14: 'Mystery',\n",
       " 15: 'Short',\n",
       " 16: 'Talk-Show',\n",
       " 17: 'Drama',\n",
       " 18: 'Action',\n",
       " 19: 'Documentary',\n",
       " 20: 'Musical',\n",
       " 21: 'History',\n",
       " 22: 'Family',\n",
       " 23: 'Adventure',\n",
       " 24: 'Fantasy',\n",
       " 25: 'Game-Show',\n",
       " 26: 'Sport',\n",
       " 27: 'Biography',\n",
       " 28: 'Duree',\n",
       " 29: 'couleur',\n",
       " 30: 'annee',\n",
       " 31: 'budget',\n",
       " 32: 'nb_votes',\n",
       " 33: 'rating'}"
      ]
     },
     "execution_count": 48,
     "metadata": {},
     "output_type": "execute_result"
    }
   ],
   "source": [
    "fields"
   ]
  },
  {
   "cell_type": "code",
   "execution_count": 52,
   "metadata": {},
   "outputs": [],
   "source": [
    "l=[]\n",
    "for i in range(28):\n",
    "    l.append(\n",
    "        entropie_cond([datay[datax[:,i]==1], datay[datax[:,i]==0]])\n",
    "    )"
   ]
  },
  {
   "cell_type": "code",
   "execution_count": 53,
   "metadata": {},
   "outputs": [
    {
     "data": {
      "text/plain": [
       "'Drama'"
      ]
     },
     "execution_count": 53,
     "metadata": {},
     "output_type": "execute_result"
    }
   ],
   "source": [
    "fields[np.argmin(l)]"
   ]
  },
  {
   "cell_type": "code",
   "execution_count": 87,
   "metadata": {
    "scrolled": false
   },
   "outputs": [
    {
     "name": "stdout",
     "output_type": "stream",
     "text": [
      "0.6418138216699367\n",
      "var Drama :  > 0.500000 \n",
      "\tclass : 1 {1: 1614, -1: 655}\n",
      "var Drama :  <= 0.500000 \n",
      "\tclass : -1 {-1: 1330, 1: 988}\n",
      "\n"
     ]
    }
   ],
   "source": [
    "from  decisiontree  import  DecisionTree\n",
    "dt = DecisionTree ()\n",
    "dt.max_depth = 1#on fixe la  taille  de l’arbre a 5\n",
    "dt.min_samples_split = 2#nombre  minimum d’exemples  pour  spliter  un noeud\n",
    "dt.fit(datax ,datay)\n",
    "dt.predict(datax[:5 ,:])\n",
    "print(dt.score(datax ,datay))\n",
    "# dessine l’arbre  dans un  fichier  pdf   si pydot  est  installe.\n",
    "#dt.to_pdf(\"test_tree.pdf\",fields)\n",
    "# sinon  utiliser  http :// www.webgraphviz.com/\n",
    "#print(dt.to_dot(fields))\n",
    "#ou dans la  console\n",
    "print(dt.print_tree(fields))"
   ]
  },
  {
   "cell_type": "markdown",
   "metadata": {},
   "source": [
    "Q1.5) Il augmente en fonction de la profondeur c'est normal"
   ]
  },
  {
   "cell_type": "markdown",
   "metadata": {},
   "source": [
    "Q1.6) Il faudrait une base de test et une base d'apprentissage et calculer le score sur la base de test "
   ]
  },
  {
   "cell_type": "code",
   "execution_count": 98,
   "metadata": {},
   "outputs": [],
   "source": [
    "import matplotlib.pyplot as plt"
   ]
  },
  {
   "cell_type": "code",
   "execution_count": 89,
   "metadata": {},
   "outputs": [],
   "source": [
    "def splitbase(basex,basey,p):\n",
    "    listEx = list(range(len(basex)))\n",
    "    np.random.shuffle(listEx)\n",
    "    listExtrain = listEx[:int(p*len(basex))]\n",
    "    listExtest = listEx[int(p*len(basex)):]\n",
    "    return basex[listExtrain],basey[listExtrain],basex[listExtest],basey[listExtest]"
   ]
  },
  {
   "cell_type": "code",
   "execution_count": 121,
   "metadata": {},
   "outputs": [],
   "source": [
    "restest = []\n",
    "restrain = []\n",
    "\n",
    "for p in [3, 5, 7, 9, 11]:\n",
    "    restest.append([])\n",
    "    restrain.append([])\n",
    "    \n",
    "    for split in [0.2, 0.5, 0.8, 0.95]:\n",
    "        Xtrain,ytrain,Xtest,ytest = splitbase(datax, datay, split)\n",
    "        \n",
    "        dt = DecisionTree()\n",
    "        dt.max_depth = p\n",
    "        dt.min_samples_split = 2#nombre  minimum d’exemples  pour  spliter  un noeud\n",
    "        dt.fit(Xtrain ,ytrain)\n",
    "        \n",
    "        restest[-1].append(1- dt.score(Xtest ,ytest))\n",
    "        restrain[-1].append(1- dt.score(Xtrain ,ytrain))"
   ]
  },
  {
   "cell_type": "code",
   "execution_count": 119,
   "metadata": {},
   "outputs": [],
   "source": [
    "def plotErreur(res, file):\n",
    "    fig, ax = plt.subplots(1,1)\n",
    "    img = ax.imshow(res)\n",
    "    x_label_list = [0.2, 0.5, 0.8, 0.95]\n",
    "    y_label_list = [3, 5, 7, 9, 11]\n",
    "    ax.set_xticks([0,1,2,3])\n",
    "    ax.set_yticks([0,1,2,3,4])\n",
    "    ax.set_xticklabels(x_label_list)\n",
    "    ax.set_yticklabels(y_label_list)\n",
    "    ax.set_title(\"Erreur du modèle sur l'ensemble de \"+file)\n",
    "    ax.set_xlabel(\"taille(%) de l'ensemble de train\")\n",
    "    ax.set_ylabel(\"Profondeur de l'arbre de décision\")\n",
    "    fig.colorbar(img)\n",
    "    fig.show()\n",
    "    fig.savefig('Q1_7_'+file+'.png')"
   ]
  },
  {
   "cell_type": "code",
   "execution_count": 122,
   "metadata": {},
   "outputs": [
    {
     "name": "stderr",
     "output_type": "stream",
     "text": [
      "<ipython-input-119-588abac5f331>:14: UserWarning: Matplotlib is currently using module://ipykernel.pylab.backend_inline, which is a non-GUI backend, so cannot show the figure.\n",
      "  fig.show()\n"
     ]
    },
    {
     "data": {
      "image/png": "[encoded data removed]",
      "text/plain": [
       "<Figure size 432x288 with 2 Axes>"
      ]
     },
     "metadata": {
      "needs_background": "light"
     },
     "output_type": "display_data"
    },
    {
     "data": {
      "image/png": "[encoded data removed]",
      "text/plain": [
       "<Figure size 432x288 with 2 Axes>"
      ]
     },
     "metadata": {
      "needs_background": "light"
     },
     "output_type": "display_data"
    }
   ],
   "source": [
    "plotErreur(restest, \"test\")\n",
    "plotErreur(restrain, \"train\")"
   ]
  },
  {
   "cell_type": "code",
   "execution_count": null,
   "metadata": {},
   "outputs": [],
   "source": []
  }
 ],
 "metadata": {
  "kernelspec": {
   "display_name": "Python 3",
   "language": "python",
   "name": "python3"
  },
  "language_info": {
   "codemirror_mode": {
    "name": "ipython",
    "version": 3
   },
   "file_extension": ".py",
   "mimetype": "text/x-python",
   "name": "python",
   "nbconvert_exporter": "python",
   "pygments_lexer": "ipython3",
   "version": "3.8.1"
  }
 },
 "nbformat": 4,
 "nbformat_minor": 2
}
