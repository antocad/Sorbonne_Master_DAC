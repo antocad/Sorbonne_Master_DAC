{
 "cells": [
  {
   "cell_type": "code",
   "execution_count": 1,
   "metadata": {},
   "outputs": [],
   "source": [
    "import numpy as np"
   ]
  },
  {
   "cell_type": "code",
   "execution_count": 2,
   "metadata": {},
   "outputs": [],
   "source": [
    "def load_usps(fn):\n",
    "    with open(fn,\"r\") as f:\n",
    "        f.readline()\n",
    "        data = [[float(x) for x in l.split()] for l in f if len(l.split())>2]\n",
    "    tmp=np.array(data)\n",
    "    return tmp[:,1:],tmp[:,0].astype(int)"
   ]
  },
  {
   "cell_type": "code",
   "execution_count": 14,
   "metadata": {},
   "outputs": [],
   "source": [
    "def ajout_bruit(X):\n",
    "    \"\"\"\n",
    "    ajout du bruit w0 à la premiere colonne de \n",
    "    chaque exemple de la base X\n",
    "    \"\"\"\n",
    "    return np.hstack((np.ones((len(X), 1)), X))"
   ]
  },
  {
   "cell_type": "code",
   "execution_count": 15,
   "metadata": {},
   "outputs": [],
   "source": [
    "Xtrain,Ytrain = load_usps(\"USPS_train.txt\")\n",
    "Xtest,Ytest = load_usps(\"USPS_test.txt\")\n",
    "\n",
    "Xtrain = ajout_bruit(Xtrain)\n",
    "Xtest = ajout_bruit(Xtest)"
   ]
  },
  {
   "cell_type": "code",
   "execution_count": 80,
   "metadata": {},
   "outputs": [
    {
     "data": {
      "text/plain": [
       "array([1.   , 0.   , 0.   , 0.   , 0.   , 0.   , 0.   , 0.   , 0.369,\n",
       "       1.862, 0.833, 0.   , 0.   , 0.   , 0.   , 0.   , 0.   , 0.   ,\n",
       "       0.   , 0.   , 0.   , 0.   , 0.   , 0.008, 1.297, 2.   , 1.307,\n",
       "       0.   , 0.   , 0.   , 0.   , 0.   , 0.   , 0.   , 0.   , 0.   ,\n",
       "       0.   , 0.   , 0.   , 0.59 , 2.   , 1.986, 0.435, 0.   , 0.   ,\n",
       "       0.   , 0.   , 0.   , 0.   , 0.   , 0.   , 0.   , 0.   , 0.   ,\n",
       "       0.317, 1.825, 2.   , 1.562, 0.   , 0.   , 0.   , 0.   , 0.   ,\n",
       "       0.   , 0.   , 0.   , 0.   , 0.   , 0.   , 0.062, 1.54 , 2.   ,\n",
       "       1.778, 0.285, 0.   , 0.   , 0.   , 0.   , 0.   , 0.   , 0.   ,\n",
       "       0.   , 0.   , 0.   , 0.   , 1.1  , 2.   , 1.922, 0.561, 0.   ,\n",
       "       0.   , 0.   , 0.   , 0.   , 0.   , 0.   , 0.   , 0.   , 0.   ,\n",
       "       0.   , 0.743, 1.95 , 2.   , 0.838, 0.   , 0.   , 0.   , 0.013,\n",
       "       0.286, 0.168, 0.   , 0.   , 0.   , 0.   , 0.   , 0.203, 1.909,\n",
       "       2.   , 1.3  , 0.039, 0.   , 0.   , 0.45 , 1.485, 1.996, 1.867,\n",
       "       1.092, 0.   , 0.   , 0.   , 0.   , 1.278, 2.   , 1.877, 0.176,\n",
       "       0.   , 0.095, 1.145, 1.977, 2.   , 2.   , 2.   , 1.99 , 0.255,\n",
       "       0.   , 0.   , 0.05 , 1.847, 2.   , 1.327, 0.   , 0.   , 1.355,\n",
       "       2.   , 1.655, 0.891, 0.815, 2.   , 1.988, 0.277, 0.   , 0.   ,\n",
       "       0.37 , 2.   , 2.   , 1.068, 0.075, 1.113, 1.96 , 1.308, 0.116,\n",
       "       0.   , 0.925, 2.   , 1.641, 0.005, 0.   , 0.   , 0.323, 2.   ,\n",
       "       2.   , 1.753, 1.341, 2.   , 1.707, 0.058, 0.   , 0.   , 1.545,\n",
       "       2.   , 1.027, 0.   , 0.   , 0.   , 0.097, 1.792, 2.   , 2.   ,\n",
       "       2.   , 2.   , 1.536, 1.184, 1.812, 1.837, 1.978, 1.864, 0.37 ,\n",
       "       0.   , 0.   , 0.   , 0.   , 0.548, 1.828, 2.   , 2.   , 2.   ,\n",
       "       2.   , 2.   , 2.   , 2.   , 2.   , 1.135, 0.   , 0.   , 0.   ,\n",
       "       0.   , 0.   , 0.   , 0.517, 1.813, 2.   , 2.   , 2.   , 2.   ,\n",
       "       2.   , 2.   , 1.219, 0.057, 0.   , 0.   , 0.   , 0.   , 0.   ,\n",
       "       0.   , 0.   , 0.026, 0.571, 1.304, 1.823, 2.   , 1.482, 0.526,\n",
       "       0.009, 0.   , 0.   , 0.   , 0.   ])"
      ]
     },
     "execution_count": 80,
     "metadata": {},
     "output_type": "execute_result"
    }
   ],
   "source": [
    "Xtrain[0]"
   ]
  },
  {
   "cell_type": "code",
   "execution_count": 52,
   "metadata": {},
   "outputs": [],
   "source": [
    "def mse(w, X, Y, alpha):\n",
    "    \"\"\"\n",
    "    étant donné qu'on a ajouté le bruit dans X à\n",
    "    la première colonne de chaque exemple,\n",
    "    ne pas oublier d'inclure le w_0 pour le bruit dans w.\n",
    "    (dans le np.dot on calculera forcément 1*w_0 pour chaque exemple)\n",
    "    \"\"\"\n",
    "    return np.mean((Y - np.dot(X, w.reshape(-1,1)))**2)"
   ]
  },
  {
   "cell_type": "code",
   "execution_count": 53,
   "metadata": {},
   "outputs": [],
   "source": [
    "def mse_g(w, X, Y, alpha):\n",
    "    \"\"\" retourne le gradient moyen de l'erreur au moindres carres \"\"\"\n",
    "    return np.hstack(\n",
    "        np.dot(2*X.T, np.dot(X, w.reshape(-1,1)) - Y)\n",
    "    )"
   ]
  },
  {
   "cell_type": "code",
   "execution_count": 54,
   "metadata": {},
   "outputs": [],
   "source": [
    "def ridge_g(w, X, Y, alpha):\n",
    "    \"\"\" retourne le gradient de ridge \"\"\"\n",
    "    return np.hstack(\n",
    "        np.dot(2*X.T, np.dot(X, w.reshape(-1,1)) - Y) - alpha*2*w.reshape(-1,1)\n",
    "    )"
   ]
  },
  {
   "cell_type": "code",
   "execution_count": 55,
   "metadata": {},
   "outputs": [],
   "source": [
    "def lasso_g(w, X, Y, alpha):\n",
    "    \"\"\" retourne le gradient de lasso \"\"\"\n",
    "    return np.hstack(\n",
    "        np.dot(2*X.T, np.dot(X, w.reshape(-1,1)) - Y) - alpha*w.reshape(-1,1)/np.sum(np.abs(w))\n",
    "    )"
   ]
  },
  {
   "cell_type": "code",
   "execution_count": 58,
   "metadata": {},
   "outputs": [
    {
     "data": {
      "text/plain": [
       "24.213962419421204"
      ]
     },
     "execution_count": 58,
     "metadata": {},
     "output_type": "execute_result"
    }
   ],
   "source": [
    "w = np.zeros(Xtrain.shape[1])\n",
    "mse(w, Xtrain, Ytrain, None)"
   ]
  },
  {
   "cell_type": "code",
   "execution_count": 59,
   "metadata": {},
   "outputs": [
    {
     "data": {
      "text/plain": [
       "array([-8.74920e+04, -7.29100e+04, -5.83280e+04, ..., -2.32824e+02,\n",
       "        0.00000e+00, -7.76080e+01])"
      ]
     },
     "execution_count": 59,
     "metadata": {},
     "output_type": "execute_result"
    }
   ],
   "source": [
    "mse_g(w, Xtrain, Ytrain, None)"
   ]
  },
  {
   "cell_type": "code",
   "execution_count": 60,
   "metadata": {},
   "outputs": [
    {
     "data": {
      "text/plain": [
       "array([-8.74920e+04, -7.29100e+04, -5.83280e+04, ..., -2.32824e+02,\n",
       "        0.00000e+00, -7.76080e+01])"
      ]
     },
     "execution_count": 60,
     "metadata": {},
     "output_type": "execute_result"
    }
   ],
   "source": [
    "ridge_g(w, Xtrain, Ytrain, 1)"
   ]
  },
  {
   "cell_type": "code",
   "execution_count": 61,
   "metadata": {},
   "outputs": [
    {
     "name": "stderr",
     "output_type": "stream",
     "text": [
      "<ipython-input-55-9d160f4d7f0b>:4: RuntimeWarning: invalid value encountered in true_divide\n",
      "  np.dot(2*X.T, np.dot(X, w.reshape(-1,1)) - Y) - alpha*w.reshape(-1,1)/np.sum(np.abs(w))\n"
     ]
    },
    {
     "data": {
      "text/plain": [
       "array([nan, nan, nan, ..., nan, nan, nan])"
      ]
     },
     "execution_count": 61,
     "metadata": {},
     "output_type": "execute_result"
    }
   ],
   "source": [
    "lasso_g(w, Xtrain, Ytrain, 1)"
   ]
  },
  {
   "cell_type": "code",
   "execution_count": 81,
   "metadata": {},
   "outputs": [],
   "source": [
    "class Classifier(object):\n",
    "    def __init__(self, loss, loss_g, alpha=0, max_iter=1000, eps=0.01):\n",
    "        \"\"\" :loss: fonction de cout\n",
    "            :loss_g: gradient de la fonction de cout\n",
    "            :max_iter: nombre d'iterations\n",
    "            :eps: pas de gradient\n",
    "        \"\"\"\n",
    "        self.max_iter, self.eps = max_iter,eps\n",
    "        self.loss, self.loss_g = loss, loss_g\n",
    "        self.alpha = alpha\n",
    "        self.w = None\n",
    "        \n",
    "    def fit(self, X, Y):\n",
    "        Y = Y.reshape(-1,1)\n",
    "        N = len(Y)\n",
    "        X = X.reshape(N,-1)\n",
    "        D = X.shape[1]\n",
    "        self.w = np.zeros(D)\n",
    "        for i in range(self.max_iter):\n",
    "            self.w = self.w - self.eps * self.loss_g(self.w, X, Y, self.alpha)\n",
    "        print(self.w)\n",
    "        \n",
    "    def predict(self, X):\n",
    "        return np.hstack(np.sign(np.dot(X, self.w.reshape(-1,1))))\n",
    "        \n",
    "    def score(self):\n",
    "        raise NotImplementedError"
   ]
  },
  {
   "cell_type": "code",
   "execution_count": 82,
   "metadata": {},
   "outputs": [],
   "source": [
    "X = Xtrain\n",
    "Y = Ytrain\n",
    "d69X,d69Y = X[(Y==6)|(Y==9)],Y[(Y==6)|(Y==9)]\n",
    "d69Y = np.where(d69Y==6,-1,1)"
   ]
  },
  {
   "cell_type": "code",
   "execution_count": 95,
   "metadata": {},
   "outputs": [],
   "source": [
    "clf = Classifier(mse, mse_g, alpha=1, max_iter=10, eps=0.001)"
   ]
  },
  {
   "cell_type": "code",
   "execution_count": 96,
   "metadata": {},
   "outputs": [
    {
     "name": "stdout",
     "output_type": "stream",
     "text": [
      "[1.54399768e+21 8.19902688e+16 1.17183015e+18 3.45163535e+18\n",
      " 1.48999158e+19 5.19200800e+19 1.92242416e+20 5.49469116e+20\n",
      " 1.19977270e+21 1.87198003e+21 1.91503651e+21 1.22382725e+21\n",
      " 5.11088330e+20 1.61614225e+20 5.34743977e+19 1.35367488e+19\n",
      " 6.04235074e+17 1.16826615e+18 4.09406948e+18 2.38804668e+19\n",
      " 9.08884109e+19 3.17542562e+20 7.92913319e+20 1.45370147e+21\n",
      " 2.08345044e+21 2.37753431e+21 2.11016865e+21 1.63319303e+21\n",
      " 1.03714789e+21 4.59094674e+20 1.60780876e+20 5.65838885e+19\n",
      " 8.11031995e+18 2.88241845e+18 1.98740459e+19 7.99301914e+19\n",
      " 2.84159650e+20 7.64785618e+20 1.34370232e+21 1.70306609e+21\n",
      " 1.89840167e+21 1.58150905e+21 1.11595498e+21 1.08234969e+21\n",
      " 1.00773223e+21 6.24733841e+20 2.59333604e+20 8.45959427e+19\n",
      " 1.41170815e+19 6.97045373e+18 4.84108962e+19 1.81732931e+20\n",
      " 5.55204976e+20 1.16770297e+21 1.50174895e+21 1.60375457e+21\n",
      " 1.45943375e+21 9.36972280e+20 6.49081469e+20 8.59998120e+20\n",
      " 9.76351732e+20 6.68403427e+20 2.94482533e+20 9.21606561e+19\n",
      " 1.59590630e+19 1.36143550e+19 8.26734543e+19 2.89482946e+20\n",
      " 8.03533538e+20 1.38998582e+21 1.61642398e+21 1.56637985e+21\n",
      " 1.12834356e+21 6.44637852e+20 6.73084067e+20 1.00563643e+21\n",
      " 1.04475627e+21 6.52236757e+20 2.67686494e+20 8.49877504e+19\n",
      " 1.50132642e+19 2.07543802e+19 1.02139365e+20 3.65187142e+20\n",
      " 9.66589423e+20 1.62700208e+21 1.86340298e+21 1.55418843e+21\n",
      " 9.81156840e+20 7.17254050e+20 9.39954091e+20 1.16319384e+21\n",
      " 1.02907259e+21 5.58077155e+20 2.18472173e+20 6.65372686e+19\n",
      " 1.24589176e+19 2.25443409e+19 1.17495155e+20 4.19196621e+20\n",
      " 1.03140424e+21 1.79872722e+21 1.95982733e+21 1.50399294e+21\n",
      " 9.71487964e+20 8.87839255e+20 1.13525854e+21 1.28415454e+21\n",
      " 9.75283404e+20 4.82318163e+20 1.98366980e+20 6.68309617e+19\n",
      " 1.47487729e+19 2.00436265e+19 1.41545697e+20 4.77074469e+20\n",
      " 1.10345152e+21 1.73505684e+21 1.77678047e+21 1.23522213e+21\n",
      " 8.48174411e+20 9.36281824e+20 1.36158675e+21 1.43998387e+21\n",
      " 9.95547695e+20 4.97310051e+20 2.43837501e+20 1.10843936e+20\n",
      " 2.62195460e+19 1.89186807e+19 1.79486876e+20 5.39933293e+20\n",
      " 1.12850369e+21 1.52981388e+21 1.35193275e+21 8.64691915e+20\n",
      " 7.71270444e+20 1.19008813e+21 1.77398613e+21 1.70678236e+21\n",
      " 1.11466395e+21 6.45681293e+20 3.72312846e+20 1.87997620e+20\n",
      " 5.45327748e+19 4.43965009e+19 2.30472249e+20 6.12870287e+20\n",
      " 1.08579347e+21 1.26195244e+21 9.39027086e+20 6.80522077e+20\n",
      " 8.89536399e+20 1.62853521e+21 2.15918531e+21 1.78518191e+21\n",
      " 1.19029348e+21 8.28091620e+20 4.90545128e+20 2.46755328e+20\n",
      " 7.21032129e+19 7.21919745e+19 2.79176369e+20 6.70769614e+20\n",
      " 1.07366504e+21 1.08677414e+21 7.61350553e+20 7.36355505e+20\n",
      " 1.20378152e+21 1.99082146e+21 2.12587848e+21 1.53590652e+21\n",
      " 1.21148770e+21 9.94659931e+20 5.97933356e+20 2.54853722e+20\n",
      " 5.55162422e+19 8.91861144e+19 2.97079067e+20 6.88071836e+20\n",
      " 1.07964003e+21 1.04612945e+21 7.84233962e+20 8.87375480e+20\n",
      " 1.44032918e+21 1.97231774e+21 1.68813913e+21 1.16825091e+21\n",
      " 1.18233534e+21 1.07063258e+21 5.83968766e+20 1.91316641e+20\n",
      " 2.92236487e+19 7.00719139e+19 2.63742711e+20 6.35356476e+20\n",
      " 1.07847943e+21 1.13268533e+21 9.42553288e+20 1.04620621e+21\n",
      " 1.59898232e+21 1.88665003e+21 1.44317637e+21 1.22720031e+21\n",
      " 1.26229880e+21 9.35007316e+20 4.16351257e+20 1.02980079e+20\n",
      " 9.84754126e+18 2.35656793e+19 1.74538995e+20 4.74137510e+20\n",
      " 9.73325230e+20 1.27239772e+21 1.27181650e+21 1.42158385e+21\n",
      " 1.96083490e+21 2.13207570e+21 1.73789171e+21 1.47789674e+21\n",
      " 1.12788962e+21 6.06703850e+20 1.99293664e+20 3.73518866e+19\n",
      " 2.55582874e+18 4.56315206e+18 5.15431254e+19 2.25350472e+20\n",
      " 6.03137956e+20 1.12059277e+21 1.48937653e+21 1.87861660e+21\n",
      " 2.42240060e+21 2.44812693e+21 1.85319731e+21 1.20911818e+21\n",
      " 6.22575477e+20 2.29233921e+20 5.27906054e+19 8.78833541e+18\n",
      " 1.13915194e+16 1.29868730e+17 4.65395320e+18 4.22022722e+19\n",
      " 1.63308266e+20 4.39653284e+20 8.56213251e+20 1.42090173e+21\n",
      " 1.92683791e+21 1.73690599e+21 1.02341707e+21 4.38809886e+20\n",
      " 1.56399892e+20 3.42604169e+19 5.86713897e+18 7.46813657e+17\n",
      " 0.00000000e+00]\n"
     ]
    }
   ],
   "source": [
    "clf.fit(d69X, d69Y)"
   ]
  },
  {
   "cell_type": "code",
   "execution_count": null,
   "metadata": {},
   "outputs": [],
   "source": []
  }
 ],
 "metadata": {
  "kernelspec": {
   "display_name": "Python 3",
   "language": "python",
   "name": "python3"
  },
  "language_info": {
   "codemirror_mode": {
    "name": "ipython",
    "version": 3
   },
   "file_extension": ".py",
   "mimetype": "text/x-python",
   "name": "python",
   "nbconvert_exporter": "python",
   "pygments_lexer": "ipython3",
   "version": "3.8.1"
  }
 },
 "nbformat": 4,
 "nbformat_minor": 4
}
