{
 "cells": [
  {
   "cell_type": "code",
   "execution_count": 1,
   "metadata": {},
   "outputs": [],
   "source": [
    "import numpy as np\n",
    "import random as rand"
   ]
  },
  {
   "cell_type": "code",
   "execution_count": 2,
   "metadata": {},
   "outputs": [],
   "source": [
    "def viterbi(x, M):\n",
    "    P,A,B = M\n",
    "    #init\n",
    "    T = len(x)\n",
    "    d = len(P)\n",
    "    delta = np.zeros((d,T))\n",
    "    psi = np.zeros((d,T))\n",
    "    for i in range(d):\n",
    "        delta[i,0] = P[i] * B[i, x[0]-1]\n",
    "\n",
    "    #recurrence\n",
    "    for t in range(1,T):\n",
    "        for i in range(d):\n",
    "            temp = []\n",
    "            for j in range(d):\n",
    "                temp.append(delta[j,t-1] * A[j,i] * B[i,x[t]-1])\n",
    "            delta[i,t] = np.max(temp)\n",
    "            psi[i,t] = np.argmax(temp)\n",
    "            \n",
    "    #backtracking\n",
    "    sequence = []\n",
    "    sequence.append(np.argmax(delta[:,T-1]))\n",
    "    for t in range(T-2, -1, -1):\n",
    "        sequence.append(int(psi[sequence[-1], t]))\n",
    "    sequence.reverse()\n",
    "    \n",
    "    return delta,sequence"
   ]
  },
  {
   "cell_type": "code",
   "execution_count": 3,
   "metadata": {},
   "outputs": [],
   "source": [
    "def comptage1(x,s,d):\n",
    "    \n",
    "    P = np.zeros(d)\n",
    "    A = np.zeros((d,d))\n",
    "    B = np.zeros((d,len(np.unique(x))))\n",
    "    \n",
    "    P[s[0]] += 1\n",
    "    for i in range(len(s)-1):\n",
    "        A[s[i],s[i+1]] += 1\n",
    "    \n",
    "    for i in range(len(x)):\n",
    "        B[s[i],x[i]-1] += 1\n",
    "    P = P/np.sum(P)\n",
    "    A = A/np.sum(A, axis = 1).reshape((2,1))\n",
    "    B = B/np.sum(B, axis = 1).reshape((2,1))\n",
    "    return P,A,B"
   ]
  },
  {
   "cell_type": "code",
   "execution_count": 11,
   "metadata": {
    "scrolled": false
   },
   "outputs": [
    {
     "name": "stdout",
     "output_type": "stream",
     "text": [
      "[[0.58985425 0.11976692 0.29037882]\n",
      " [0.60694261 0.22277357 0.17028382]]\n",
      "\n",
      "-----------------------------------\n",
      "[1. 0.] [[0.5 0.5]\n",
      " [0.  1. ]] [[0.5  0.5  0.  ]\n",
      " [0.5  0.25 0.25]]\n",
      "\n",
      "-----------------------------------\n",
      "[1. 0.] [[0.66666667 0.33333333]\n",
      " [0.         1.        ]] [[0.66666667 0.33333333 0.        ]\n",
      " [0.33333333 0.33333333 0.33333333]]\n",
      "\n",
      "-----------------------------------\n",
      "[1. 0.] [[0.8 0.2]\n",
      " [nan nan]] [[0.6 0.2 0.2]\n",
      " [0.  1.  0. ]]\n",
      "\n",
      "-----------------------------------\n"
     ]
    },
    {
     "name": "stderr",
     "output_type": "stream",
     "text": [
      "<ipython-input-3-f3052f1d524d>:14: RuntimeWarning: invalid value encountered in true_divide\n",
      "  A = A/np.sum(A, axis = 1).reshape((2,1))\n"
     ]
    }
   ],
   "source": [
    "x = np.array([1,2,1,1,3,2])\n",
    "d = 2 #nombre d'états cachés (ex: 2 pour 2 dés)\n",
    "e = len(np.unique(x)) #nombre de tirages discrets / état\n",
    "\n",
    "P = np.zeros(d)\n",
    "P[x[0]-1] = 1.\n",
    "A = np.random.dirichlet(np.ones(d),size=1)\n",
    "for i in range(d-1):\n",
    "    A = np.vstack((A,np.random.dirichlet(np.ones(d),size=1)))\n",
    "\n",
    "B = np.random.dirichlet(np.ones(e),size=1)\n",
    "for i in range(d-1):\n",
    "    B = np.vstack((B,np.random.dirichlet(np.ones(e),size=1)))\n",
    "\n",
    "M = (P,A,B)\n",
    "\n",
    "print(B)\n",
    "print('\\n-----------------------------------')\n",
    "for i in range(3):\n",
    "    delta,seq = viterbi(x, M)\n",
    "    M = comptage1(x,seq,d)\n",
    "    print(M[0],M[1], M[2])\n",
    "    print('vraisemblance:',np.sum())\n",
    "    print('\\n-----------------------------------')"
   ]
  },
  {
   "cell_type": "code",
   "execution_count": null,
   "metadata": {},
   "outputs": [],
   "source": []
  }
 ],
 "metadata": {
  "kernelspec": {
   "display_name": "Python 3",
   "language": "python",
   "name": "python3"
  },
  "language_info": {
   "codemirror_mode": {
    "name": "ipython",
    "version": 3
   },
   "file_extension": ".py",
   "mimetype": "text/x-python",
   "name": "python",
   "nbconvert_exporter": "python",
   "pygments_lexer": "ipython3",
   "version": "3.8.1"
  }
 },
 "nbformat": 4,
 "nbformat_minor": 2
}
