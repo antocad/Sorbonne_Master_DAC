{
 "cells": [
  {
   "cell_type": "markdown",
   "metadata": {},
   "source": [
    "$\\begin{aligned} E P ( d ) & = P ( d , 1 ) + \\sum _ { k = 2 d } ^ { 6 d } P ( d , k ) k \\\\ & = P ( d , 1 ) + \\sum _ { k = 2 d } ^ { 6 d } \\left( \\frac { 5 } { 6 } \\right) ^ { d } Q ( d , k ) k \\\\ & = P ( d , 1 ) + \\left( \\frac { 5 } { 6 } \\right) ^ { d } \\times \\sum _ { k = 2 d } ^ { 6 d } Q ( d , k ) \\times \\sum _ { k = 2 d } ^ { 6 d } k \\\\ & = 1 - \\left( \\frac { 5 } { 6 } \\right) ^ { d } + \\left( \\frac { 5 } { 6 } \\right) ^ { d } \\times \\sum _ { k = 2 d } ^ { 6 d } k \\\\ & = 1 - \\left( \\frac { 5 } { 6 } \\right) ^ { d } + \\left( \\frac { 5 } { 6 } \\right) ^ { d } 4 d \\end{aligned}$"
   ]
  },
  {
   "cell_type": "markdown",
   "metadata": {},
   "source": [
    "$$\\begin{array}{l}{\\quad \\text { max } z} \\\\ {z \\leq \\sum_{i=1}^{D} E G(i, 1) p_{1}(i)} \\\\ {\\vdots} \\\\ {z \\leq \\sum_{i=1}^{D} E G(i, D) p_{1}(i)} \\\\ {\\sum_{i=1}^{D} p_{1}(i)=1}\\end{array}$$"
   ]
  },
  {
   "cell_type": "markdown",
   "metadata": {},
   "source": [
    "$\\begin{array}{l}{\\left.E G_{1}\\left(d_{1}, d_{2}\\right)=P\\left(d_{1}\\right>d_{2}\\right)- P\\left(d_{1}<d_{2}\\right)} \\\\ {=\\sum_{k_{1}=1}^{6D} \\sum_{k_{2}=1}^{k_{1}-1} P\\left(d_{1}, k_{1}\\right) P\\left(d_{2}, k_{2}\\right)-\\sum_{k_{2}=1}^{6D} \\sum_{k_{1}=1}^{k_{2}-1} P\\left(d_{1}, k_{1}\\right) P\\left(d_{2}, k_{2}\\right)}\\end{array}$"
   ]
  }
 ],
 "metadata": {
  "kernelspec": {
   "display_name": "Python 3",
   "language": "python",
   "name": "python3"
  },
  "language_info": {
   "codemirror_mode": {
    "name": "ipython",
    "version": 3
   },
   "file_extension": ".py",
   "mimetype": "text/x-python",
   "name": "python",
   "nbconvert_exporter": "python",
   "pygments_lexer": "ipython3",
   "version": "3.7.3"
  }
 },
 "nbformat": 4,
 "nbformat_minor": 2
}
