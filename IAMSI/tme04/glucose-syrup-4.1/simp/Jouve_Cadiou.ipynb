{
 "cells": [
  {
   "cell_type": "code",
   "execution_count": 43,
   "metadata": {},
   "outputs": [],
   "source": [
    "def nbVar(ne,nj):\n",
    "    return (nj-1)*ne*ne+(ne-1)*ne+(ne-2)+1"
   ]
  },
  {
   "cell_type": "code",
   "execution_count": 44,
   "metadata": {},
   "outputs": [
    {
     "data": {
      "text/plain": [
       "63"
      ]
     },
     "execution_count": 44,
     "metadata": {},
     "output_type": "execute_result"
    }
   ],
   "source": [
    "nbVar(4,4)"
   ]
  },
  {
   "cell_type": "code",
   "execution_count": 181,
   "metadata": {},
   "outputs": [],
   "source": [
    "def codage(ne,nj,j,x,y):\n",
    "    return (j*(ne**2))+(x*ne)+y+1"
   ]
  },
  {
   "cell_type": "code",
   "execution_count": 182,
   "metadata": {},
   "outputs": [],
   "source": [
    "def decodage(ne,nj,k):\n",
    "    y = (k-1) % ne\n",
    "    x = (k-y-1)%(ne**2)/ne\n",
    "    j = (k-1-x*ne-y)/(ne**2)\n",
    "    return j,x,y"
   ]
  },
  {
   "cell_type": "code",
   "execution_count": 183,
   "metadata": {},
   "outputs": [
    {
     "data": {
      "text/plain": [
       "58"
      ]
     },
     "execution_count": 183,
     "metadata": {},
     "output_type": "execute_result"
    }
   ],
   "source": [
    "codage(4,4,3,2,1)"
   ]
  },
  {
   "cell_type": "code",
   "execution_count": 184,
   "metadata": {},
   "outputs": [
    {
     "data": {
      "text/plain": [
       "(3.0, 2.0, 1)"
      ]
     },
     "execution_count": 184,
     "metadata": {},
     "output_type": "execute_result"
    }
   ],
   "source": [
    "decodage(4,4,58)"
   ]
  },
  {
   "cell_type": "code",
   "execution_count": 185,
   "metadata": {},
   "outputs": [],
   "source": [
    "def clauseAuMoins(l):\n",
    "    return ' '.join(map(str,l)) + ' 0'"
   ]
  },
  {
   "cell_type": "code",
   "execution_count": 186,
   "metadata": {},
   "outputs": [
    {
     "data": {
      "text/plain": [
       "'1 2 3 0'"
      ]
     },
     "execution_count": 186,
     "metadata": {},
     "output_type": "execute_result"
    }
   ],
   "source": [
    "clauseAuMoins([1,2,3])"
   ]
  },
  {
   "cell_type": "code",
   "execution_count": 187,
   "metadata": {},
   "outputs": [],
   "source": [
    "def clauseAuPlus(l):\n",
    "    tmp = ''\n",
    "    for i in range(len(l)):\n",
    "        for j in range(i+1, len(l)):\n",
    "            tmp += str(-l[i])+' '+str(-l[j])+' 0\\n'\n",
    "    return tmp[:-1]"
   ]
  },
  {
   "cell_type": "code",
   "execution_count": 188,
   "metadata": {},
   "outputs": [
    {
     "name": "stdout",
     "output_type": "stream",
     "text": [
      "-1 -2 0\n",
      "-1 -3 0\n",
      "-2 -3 0\n"
     ]
    }
   ],
   "source": [
    "print(clauseAuPlus([1,2,3]))"
   ]
  },
  {
   "cell_type": "code",
   "execution_count": 189,
   "metadata": {},
   "outputs": [],
   "source": [
    "def encoderC1(ne, nj):\n",
    "    res = ''\n",
    "    for j in range(nj):\n",
    "        for e1 in range(ne):\n",
    "            l = []\n",
    "            for e2 in range(ne):\n",
    "                if e1!=e2:\n",
    "                    v1 = codage(ne,nj,j,e1,e2)\n",
    "                    v2 = codage(ne,nj,j,e2,e1)\n",
    "                    l.append(v1)\n",
    "                    l.append(v2)\n",
    "            if l != []:\n",
    "                res += clauseAuPlus(l)+'\\n'\n",
    "    return res[:-1]"
   ]
  },
  {
   "cell_type": "code",
   "execution_count": 190,
   "metadata": {},
   "outputs": [
    {
     "data": {
      "text/plain": [
       "72"
      ]
     },
     "execution_count": 190,
     "metadata": {},
     "output_type": "execute_result"
    }
   ],
   "source": [
    "len(encoderC1(3,4).split('\\n'))"
   ]
  },
  {
   "cell_type": "code",
   "execution_count": 197,
   "metadata": {},
   "outputs": [],
   "source": [
    "def encoderC2(ne, nj):\n",
    "    res = ''\n",
    "    for e1 in range(ne):\n",
    "        for e2 in range(ne):\n",
    "            if (e1 !=e2 ):\n",
    "                aller = []\n",
    "                retour = []\n",
    "                for j in range(nj):\n",
    "                    allerVal = codage(ne,nj,j,e1,e2)\n",
    "                    retourVal = codage(ne,nj,j,e2,e1)\n",
    "                    aller.append(allerVal)\n",
    "                    retour.append(retourVal)\n",
    "                if aller != [] and retour != []:\n",
    "                    res += clauseAuPlus(aller)+'\\n'\n",
    "                    res += clauseAuPlus(retour)+'\\n'\n",
    "                    res += clauseAuMoins(aller)+'\\n'\n",
    "                    res += clauseAuMoins(retour)+'\\n'\n",
    "    return res[:-1]"
   ]
  },
  {
   "cell_type": "code",
   "execution_count": 198,
   "metadata": {},
   "outputs": [
    {
     "data": {
      "text/plain": [
       "84"
      ]
     },
     "execution_count": 198,
     "metadata": {},
     "output_type": "execute_result"
    }
   ],
   "source": [
    "len(encoderC2(3,4).split('\\n'))"
   ]
  },
  {
   "cell_type": "code",
   "execution_count": 199,
   "metadata": {},
   "outputs": [],
   "source": [
    "def encoder(ne, nj):\n",
    "    return encoderC1(ne, nj) +'\\n'+ encoderC2(ne, nj)"
   ]
  },
  {
   "cell_type": "code",
   "execution_count": 200,
   "metadata": {},
   "outputs": [
    {
     "data": {
      "text/plain": [
       "156"
      ]
     },
     "execution_count": 200,
     "metadata": {},
     "output_type": "execute_result"
    }
   ],
   "source": [
    "len(encoder(3,4).split('\\n'))"
   ]
  },
  {
   "cell_type": "code",
   "execution_count": 201,
   "metadata": {},
   "outputs": [],
   "source": [
    "def createCNF(nom, ne, nj):\n",
    "    contraintes = encoder(ne, nj)\n",
    "    with open(nom, \"w\") as f:\n",
    "        f.write(\"p cnf \" + str(nbVar(ne, nj)) + \" \" + str(len(contraintes.split('\\n'))) + \"\\n\"+contraintes)\n",
    "    print(\"fichier \"+nom+\" créé.\")"
   ]
  },
  {
   "cell_type": "code",
   "execution_count": 203,
   "metadata": {},
   "outputs": [
    {
     "name": "stdout",
     "output_type": "stream",
     "text": [
      "fichier e3q2.cnf créé.\n"
     ]
    }
   ],
   "source": [
    "createCNF(\"e3q2.cnf\", 3, 6)"
   ]
  },
  {
   "cell_type": "code",
   "execution_count": 230,
   "metadata": {},
   "outputs": [],
   "source": [
    "def decoderCNF(fichier, ne, nj):\n",
    "    with open(fichier, \"r\") as f:\n",
    "        line = f.read()\n",
    "    line = line.split(' ')[:-1]\n",
    "    line = [decodage(ne, nj, int(i)) for i in line if int(i) > 0]\n",
    "    return line"
   ]
  },
  {
   "cell_type": "code",
   "execution_count": 231,
   "metadata": {},
   "outputs": [
    {
     "data": {
      "text/plain": [
       "[(0.0, 1.0, 0),\n",
       " (1.0, 0.0, 2),\n",
       " (2.0, 2.0, 0),\n",
       " (3.0, 2.0, 1),\n",
       " (4.0, 0.0, 1),\n",
       " (5.0, 1.0, 2)]"
      ]
     },
     "execution_count": 231,
     "metadata": {},
     "output_type": "execute_result"
    }
   ],
   "source": [
    "decoderCNF(\"e3q2_output.cnf\", 3, 6)"
   ]
  },
  {
   "cell_type": "code",
   "execution_count": 235,
   "metadata": {},
   "outputs": [],
   "source": [
    "import os\n",
    "def planning(nom, ne, nj):\n",
    "    equipes = {0:\"PSG\", 1:\"OM\", 2:\"OL\", 3:\"MONACO\", 4:\"BORDEAUX\", 5:\"STRASBOURG\"}\n",
    "    createCNF(\"tmp.cnf\", ne, nj)\n",
    "    cmd = \"./glucose_static tmp.cnf \"+nom\n",
    "    os.system(cmd)\n",
    "    line = decoderCNF(nom, ne, nj)\n",
    "    for (j,e1,e2) in line:\n",
    "        print(\"jour:\",int(j),\"equipe n°\",equipes[int(e1)],\"vs\",\"equipe n°\",equipes[int(e2)])"
   ]
  },
  {
   "cell_type": "code",
   "execution_count": 237,
   "metadata": {},
   "outputs": [
    {
     "name": "stdout",
     "output_type": "stream",
     "text": [
      "jour: 0 equipe n° PSG vs equipe n° MONACO\n",
      "jour: 0 equipe n° OL vs equipe n° MONACO\n",
      "jour: 1 equipe n° OL vs equipe n° PSG\n",
      "jour: 2 equipe n° PSG vs equipe n° OL\n",
      "jour: 2 equipe n° OM vs equipe n° OM\n",
      "jour: 3 equipe n° PSG vs equipe n° OL\n"
     ]
    }
   ],
   "source": [
    "planning(\"e3q2_output.cnf\", 4, 6)"
   ]
  },
  {
   "cell_type": "code",
   "execution_count": 1,
   "metadata": {},
   "outputs": [
    {
     "data": {
      "text/plain": [
       "0"
      ]
     },
     "execution_count": 1,
     "metadata": {},
     "output_type": "execute_result"
    }
   ],
   "source": []
  },
  {
   "cell_type": "code",
   "execution_count": null,
   "metadata": {},
   "outputs": [],
   "source": []
  }
 ],
 "metadata": {
  "kernelspec": {
   "display_name": "Python 3",
   "language": "python",
   "name": "python3"
  },
  "language_info": {
   "codemirror_mode": {
    "name": "ipython",
    "version": 3
   },
   "file_extension": ".py",
   "mimetype": "text/x-python",
   "name": "python",
   "nbconvert_exporter": "python",
   "pygments_lexer": "ipython3",
   "version": "3.8.1"
  }
 },
 "nbformat": 4,
 "nbformat_minor": 2
}
