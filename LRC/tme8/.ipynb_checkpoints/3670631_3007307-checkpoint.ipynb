{
 "cells": [
  {
   "cell_type": "code",
   "execution_count": 1,
   "metadata": {},
   "outputs": [],
   "source": [
    "# transpose : dict[str:str]\n",
    "transpose = {\n",
    "    '<':'>',\n",
    "    '>':'<',\n",
    "    'e':'et',\n",
    "    's':'st',\n",
    "    'et':'e',\n",
    "    'st':'s',\n",
    "    'd':'dt',\n",
    "    'm':'mt',\n",
    "    'dt':'d',\n",
    "    'mt':'m',\n",
    "    'o':'ot',\n",
    "    'ot':'o',\n",
    "    '=':'='                 \n",
    "    }\n",
    "\n",
    "# symetrie : dict[str:str]\n",
    "symetrie = {\n",
    "    '<':'>',\n",
    "    '>':'<',\n",
    "    'e':'s',\n",
    "    's':'e',\n",
    "    'et':'st',\n",
    "    'st':'et',\n",
    "    'd':'d',\n",
    "    'm':'mt',\n",
    "    'dt':'dt',\n",
    "    'mt':'m',\n",
    "    'o':'ot',\n",
    "    'ot':'o',\n",
    "    '=':'='\n",
    "    }            \n",
    "\n",
    "# compositionBase : dict[tuple[str,str]:set[str]]             \n",
    "compositionBase = {        \n",
    "        ('<','<'):{'<'},\n",
    "        ('<','m'):{'<'},\n",
    "        ('<','o'):{'<'},\n",
    "        ('<','et'):{'<'},\n",
    "        ('<','s'):{'<'},\n",
    "        ('<','d'):{'<','m','o','s','d'},\n",
    "        ('<','dt'):{'<'},\n",
    "        ('<','e'):{'<','m','o','s','d'},\n",
    "        ('<','st'):{'<'},\n",
    "        ('<','ot'):{'<','m','o','s','d'},\n",
    "        ('<','mt'):{'<','m','o','s','d'},\n",
    "        ('<','>'):{'<','>','m','mt','o','ot','e','et','s','st','d','dt','='},\n",
    "        ('m','m'):{'<'},\n",
    "        ('m','o'):{'<'},\n",
    "        ('m','et'):{'<'},\n",
    "        ('m','s'):{'m'},\n",
    "        ('m','d'):{'o','s','d'},\n",
    "        ('m','dt'):{'<'},\n",
    "        ('m','e'):{'o','s','d'},\n",
    "        ('m','st'):{'m'},\n",
    "        ('m','ot'):{'o','s','d'},\n",
    "        ('m','mt'):{'e','et','='},\n",
    "        ('o','o'):{'<','m','o'},\n",
    "        ('o','et'):{'<','m','o'},\n",
    "        ('o','s'):{'o'},\n",
    "        ('o','d'):{'o','s','d'},\n",
    "        ('o','dt'):{'<','m','o','et','dt'},\n",
    "        ('o','e'):{'o','s','d'},\n",
    "        ('o','st'):{'o','et','dt'},\n",
    "        ('o','ot'):{'o','ot','e','et','d','dt','st','s','='},\n",
    "        ('s','et'):{'<','m','o'},\n",
    "        ('s','s'):{'s'},\n",
    "        ('s','d'):{'d'},\n",
    "        ('s','dt'):{'<','m','o','et','dt'},\n",
    "        ('s','e'):{'d'},\n",
    "        ('s','st'):{'s','st','='},\n",
    "        ('et','s'):{'o'},\n",
    "        ('et','d'):{'o','s','d'},\n",
    "        ('et','dt'):{'dt'},\n",
    "        ('et','e'):{'e','et','='},\n",
    "        ('d','d'):{'d'},\n",
    "        ('d','dt'):{'<','>','m','mt','o','ot','e','et','s','st','d','dt','='},\n",
    "        ('dt','d'):{'o','ot','e','et','d','dt','st','s','='}\n",
    "    }"
   ]
  },
  {
   "cell_type": "code",
   "execution_count": 2,
   "metadata": {},
   "outputs": [],
   "source": [
    "\n",
    "def transposeSet(S):\n",
    "    res = set()\n",
    "    for e in S:\n",
    "        res.add(transpose[e])\n",
    "    return res\n",
    "\n",
    "def symetrieSet(S):\n",
    "    res = set()\n",
    "    for e in S:\n",
    "        res.add(symetrie[e])\n",
    "    return res"
   ]
  },
  {
   "cell_type": "code",
   "execution_count": 3,
   "metadata": {},
   "outputs": [
    {
     "data": {
      "text/plain": [
       "True"
      ]
     },
     "execution_count": 3,
     "metadata": {},
     "output_type": "execute_result"
    }
   ],
   "source": [
    "('d','d') in compositionBase"
   ]
  },
  {
   "cell_type": "code",
   "execution_count": 20,
   "metadata": {},
   "outputs": [],
   "source": [
    "def compose(r1,r2):\n",
    "    if r1 == '=':\n",
    "        return {r2}\n",
    "    if r2 == '=':\n",
    "        return {r1}\n",
    "    if (r1,r2) in compositionBase:\n",
    "        return compositionBase[(r1,r2)]\n",
    "    elif (transpose[r2],transpose[r1]) in compositionBase:\n",
    "        return transposeSet(compositionBase[(transpose[r2],transpose[r1])])\n",
    "    elif (symetrie[r1], symetrie[r2]) in compositionBase:\n",
    "        return symetrieSet(compositionBase[(symetrie[r1], symetrie[r2])])\n",
    "    else:\n",
    "        return symetrieSet(transposeSet(compositionBase[(transpose[symetrie[r2]],transpose[symetrie[r1]])]))"
   ]
  },
  {
   "cell_type": "code",
   "execution_count": 24,
   "metadata": {},
   "outputs": [
    {
     "data": {
      "text/plain": [
       "{'dt', 'et', 'o'}"
      ]
     },
     "execution_count": 24,
     "metadata": {},
     "output_type": "execute_result"
    }
   ],
   "source": [
    "compose('ot', 'm')"
   ]
  },
  {
   "cell_type": "code",
   "execution_count": 34,
   "metadata": {},
   "outputs": [],
   "source": [
    "def compositionSet(S1, S2):\n",
    "    res = set()\n",
    "    for e1 in S1:\n",
    "        for e2 in S2:\n",
    "            for e in compose(e1, e2):\n",
    "                res.add(e)\n",
    "    return res"
   ]
  },
  {
   "cell_type": "code",
   "execution_count": 53,
   "metadata": {},
   "outputs": [],
   "source": [
    "class Graphe:\n",
    "    # les indices des noeuds sont 0, 1, 2... n\n",
    "    def __init__(self,noeuds,relations):\n",
    "        self.noeuds = noeuds\n",
    "        self.relations = relations\n",
    "    def getRelations(self,i,j):\n",
    "        if (i,j) not in self.relations:\n",
    "            return transposeSet(self.relations[(j,i)])\n",
    "        return self.relations[(i,j)]\n",
    "    def ajouter(self, i, j, R):\n",
    "        if (j,i) in self.relations:\n",
    "            self.relation[(j,i)] = transposeSet(R)\n",
    "        else:\n",
    "            self.relations[(i,j)] = R"
   ]
  },
  {
   "cell_type": "code",
   "execution_count": 58,
   "metadata": {},
   "outputs": [],
   "source": [
    "def propagation(G, i, j, R):\n",
    "    pile = [(i,j)]\n",
    "    G.ajouter(i,j,R)\n",
    "    while len(pile) > 0:\n",
    "        i, j = pile.pop()\n",
    "        for k in range(len(G.noeuds)):\n",
    "            if k == i or k == j:\n",
    "                continue\n",
    "            Rij = G.getRelations(i,j)\n",
    "            Rjk = G.getRelations(j,k)\n",
    "            Rkj = G.getRelations(k,j)\n",
    "            Rik = G.getRelations(i,k)\n",
    "            Rki = G.getRelations(k,i)\n",
    "            nRik = set.intersection(compositionSet(Rij,Rjk), Rik)\n",
    "            nRkj = set.intersection(compositionSet(Rki,Rij), Rkj)\n",
    "            if len(nRik) == 0 or len(nRkj) == 0:\n",
    "                return 'contradiction temporelle'\n",
    "            if nRik != Rik:\n",
    "                G.ajouter(i,k,nRik)\n",
    "                pile.append((i,k))\n",
    "            if nRkj != Rkj:\n",
    "                G.ajouter(k,j,nRkj)\n",
    "                pile.append((k,j))"
   ]
  },
  {
   "cell_type": "code",
   "execution_count": 55,
   "metadata": {},
   "outputs": [
    {
     "data": {
      "text/plain": [
       "((0, 'A'), (1, 'B'), (2, 'C'))"
      ]
     },
     "execution_count": 55,
     "metadata": {},
     "output_type": "execute_result"
    }
   ],
   "source": [
    "tuple(enumerate(('A','B','C')))"
   ]
  },
  {
   "cell_type": "code",
   "execution_count": 68,
   "metadata": {},
   "outputs": [],
   "source": [
    "G1 = Graphe(tuple(range(3)), {(0,1):{'<'}, (0,2):{'>'}})\n",
    "G2 = Graphe(tuple(range(3)), {(0,1):{'<'}, (0,2):{'<'}})"
   ]
  },
  {
   "cell_type": "code",
   "execution_count": 69,
   "metadata": {},
   "outputs": [
    {
     "data": {
      "text/plain": [
       "'contradiction temporelle'"
      ]
     },
     "execution_count": 69,
     "metadata": {},
     "output_type": "execute_result"
    }
   ],
   "source": [
    "propagation(G1, 1, 2, {'='})"
   ]
  },
  {
   "cell_type": "code",
   "execution_count": 70,
   "metadata": {},
   "outputs": [
    {
     "data": {
      "text/plain": [
       "{(0, 1): {'<'}, (0, 2): {'<'}, (1, 2): {'='}}"
      ]
     },
     "execution_count": 70,
     "metadata": {},
     "output_type": "execute_result"
    }
   ],
   "source": [
    "propagation(G2, 1, 2, {'='})\n",
    "G2.relations"
   ]
  },
  {
   "cell_type": "code",
   "execution_count": 71,
   "metadata": {},
   "outputs": [
    {
     "data": {
      "text/plain": [
       "((0, 'S'), (1, 'L'), (2, 'R'))"
      ]
     },
     "execution_count": 71,
     "metadata": {},
     "output_type": "execute_result"
    }
   ],
   "source": [
    "tuple(enumerate(('S','L','R')))"
   ]
  },
  {
   "cell_type": "code",
   "execution_count": 82,
   "metadata": {},
   "outputs": [
    {
     "data": {
      "text/plain": [
       "'contradiction temporelle'"
      ]
     },
     "execution_count": 82,
     "metadata": {},
     "output_type": "execute_result"
    }
   ],
   "source": [
    "G = Graphe(tuple(range(3)), {(0,2):{},(1,2):{},(1,0):{}})\n",
    "propagation(G,1,0,{'ot','mt'})\n",
    "propagation(G,0,2,{'<','>','m','mt'})"
   ]
  },
  {
   "cell_type": "code",
   "execution_count": 75,
   "metadata": {},
   "outputs": [],
   "source": [
    "propagation(G,1,2,{'<','>','o','m','dt','s','st','et','='})"
   ]
  },
  {
   "cell_type": "code",
   "execution_count": 77,
   "metadata": {},
   "outputs": [
    {
     "data": {
      "text/plain": [
       "{(0, 2): {'<', '>', 'm', 'mt'},\n",
       " (1, 0): {'mt', 'ot'},\n",
       " (1, 2): {'<', '=', '>', 'dt', 'et', 'm', 'o', 's', 'st'}}"
      ]
     },
     "execution_count": 77,
     "metadata": {},
     "output_type": "execute_result"
    }
   ],
   "source": [
    "G.relations"
   ]
  }
 ],
 "metadata": {
  "kernelspec": {
   "display_name": "Python 3",
   "language": "python",
   "name": "python3"
  },
  "language_info": {
   "codemirror_mode": {
    "name": "ipython",
    "version": 3
   },
   "file_extension": ".py",
   "mimetype": "text/x-python",
   "name": "python",
   "nbconvert_exporter": "python",
   "pygments_lexer": "ipython3",
   "version": "3.5.3"
  }
 },
 "nbformat": 4,
 "nbformat_minor": 2
}
